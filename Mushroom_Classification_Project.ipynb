{
 "cells": [
  {
   "cell_type": "code",
   "execution_count": null,
   "id": "8c660cce",
   "metadata": {},
   "outputs": [],
   "source": [
    "import numpy as np\n",
    "import pandas as pd\n",
    "import matplotlib.pyplot as plt"
   ]
  },
  {
   "cell_type": "code",
   "execution_count": null,
   "id": "17789d75",
   "metadata": {},
   "outputs": [],
   "source": [
    "!pip install ucimlrepo\n",
    "from ucimlrepo import fetch_ucirepo\n",
    "\n",
    "# fetch dataset\n",
    "mushroom = fetch_ucirepo(id=73)\n",
    "\n",
    "# data (as pandas dataframes)\n",
    "X = mushroom.data.features\n",
    "y = mushroom.data.targets\n",
    "\n",
    "# metadata\n",
    "print(mushroom.metadata)\n",
    "print(mushroom.variables)"
   ]
  },
  {
   "cell_type": "code",
   "execution_count": null,
   "id": "6056c2cd",
   "metadata": {},
   "outputs": [],
   "source": [
    "import missingno as msno\n",
    "msno.bar(X)"
   ]
  },
  {
   "cell_type": "code",
   "execution_count": null,
   "id": "6b241b78",
   "metadata": {},
   "outputs": [],
   "source": [
    "for j in range(len(X.columns)):\n",
    "    count = 0\n",
    "    for i in X.index:\n",
    "        if type(X.iloc[i, j]) == float:\n",
    "            count += 1\n",
    "    indicator = '-----' if count > 0 else ''\n",
    "    print(indicator, X.columns[j], count, indicator)"
   ]
  },
  {
   "cell_type": "code",
   "execution_count": null,
   "id": "66aa2620",
   "metadata": {},
   "outputs": [],
   "source": [
    "for i in X.columns:\n",
    "    print(i, '\\t\\t\\t', X[i].unique())\n",
    "x = X.copy()\n",
    "x = x.drop(columns=['veil-type'], axis=1)"
   ]
  },
  {
   "cell_type": "code",
   "execution_count": null,
   "id": "36e07115",
   "metadata": {},
   "outputs": [],
   "source": [
    "print(y.value_counts())\n",
    "plt.bar(['p', 'e'], y.value_counts().values)\n",
    "plt.title('Class Label')\n",
    "plt.show()"
   ]
  },
  {
   "cell_type": "code",
   "execution_count": null,
   "id": "1190410b",
   "metadata": {},
   "outputs": [],
   "source": [
    "c = 1\n",
    "for i in x.columns:\n",
    "    plt.bar(x[i].value_counts().index, x[i].value_counts().values)\n",
    "    plt.title(str(c) + '. ' + i)\n",
    "    c+=1\n",
    "    plt.show()"
   ]
  },
  {
   "cell_type": "code",
   "execution_count": null,
   "id": "4f9431db",
   "metadata": {},
   "outputs": [],
   "source": [
    "x = x.drop(columns=['stalk-root'])\n",
    "x['bruises'].replace({'t': 1, 'f': 0}, inplace=True)\n",
    "x['gill-attachment'].replace({'a': 1, 'f': 0}, inplace=True)\n",
    "x['gill-spacing'].replace({'c': 1, 'w': 0}, inplace=True)\n",
    "x['gill-size'].replace({'n': 1, 'b': 0}, inplace=True)\n",
    "x['stalk-shape'].replace({'e': 1, 't': 0}, inplace=True)\n",
    "x['ring-number'].replace({'n': 0, 'o': 1, 't': 2}, inplace=True)"
   ]
  },
  {
   "cell_type": "code",
   "execution_count": null,
   "id": "25634d6e",
   "metadata": {},
   "outputs": [],
   "source": [
    "from sklearn.preprocessing import LabelEncoder\n",
    "label_encoder = LabelEncoder()\n",
    "for i in x.columns:\n",
    "    if x[i].dtypes == 'object':\n",
    "        x[i] = label_encoder.fit_transform(x[i])\n",
    "\n",
    "print(x.dtypes)\n",
    "y = y.replace({'p': 1, 'e': 0})\n",
    "y = y.to_numpy()\n",
    "y.shape"
   ]
  },
  {
   "cell_type": "code",
   "execution_count": null,
   "id": "fff0fade",
   "metadata": {},
   "outputs": [],
   "source": [
    "from sklearn.model_selection import train_test_split\n",
    "from sklearn.tree import DecisionTreeClassifier\n",
    "from sklearn.naive_bayes import MultinomialNB\n",
    "from sklearn.svm import SVC\n",
    "from sklearn.neighbors import KNeighborsClassifier\n",
    "from sklearn.linear_model import LogisticRegression\n",
    "from sklearn.metrics import classification_report, confusion_matrix, ConfusionMatrixDisplay\n",
    "\n",
    "X_train, X_test, y_train, y_test = train_test_split(x, y, test_size=0.25, random_state=42)\n",
    "y_train = y_train.ravel()\n",
    "y_test = y_test.ravel()\n",
    "\n",
    "classifiers = {\n",
    "    'Decision Tree': DecisionTreeClassifier(),\n",
    "    'Decision Tree (Entropy)': DecisionTreeClassifier(criterion='entropy'),\n",
    "    'Naive Bayes': MultinomialNB(),\n",
    "    'Support Vector Machine': SVC(),\n",
    "    'Logistic Regression': LogisticRegression(max_iter=10000),\n",
    "    'K-Nearest Neighbors': KNeighborsClassifier()\n",
    "}\n",
    "\n",
    "for name, clf in classifiers.items():\n",
    "    clf.fit(X_train, y_train)\n",
    "    y_pred = clf.predict(X_test)\n",
    "    print(f'Results for {name}:')\n",
    "    print('Confusion Matrix:')\n",
    "    print(confusion_matrix(y_test, y_pred))\n",
    "    print('\\nClassification Report:')\n",
    "    print(classification_report(y_test, y_pred))\n",
    "    print('=' * 50)"
   ]
  },
  {
   "cell_type": "code",
   "execution_count": null,
   "id": "7c2bb5ea",
   "metadata": {},
   "outputs": [],
   "source": [
    "for name, clf in classifiers.items():\n",
    "    clf.fit(X_train, y_train)\n",
    "    y_pred = clf.predict(X_test)\n",
    "    cm = confusion_matrix(y_test, y_pred)\n",
    "    disp = ConfusionMatrixDisplay(confusion_matrix=cm)\n",
    "    disp.plot(cmap=plt.cm.Blues)\n",
    "    plt.title(f'Confusion Matrix for {name}')\n",
    "    plt.show()"
   ]
  },
  {
   "cell_type": "code",
   "execution_count": null,
   "id": "c135b4a2",
   "metadata": {},
   "outputs": [],
   "source": [
    "feature_importances1 = pd.Series(classifiers['Decision Tree'].feature_importances_, index=x.columns)\n",
    "feature_importances1.sort_values(ascending=False, inplace=True)\n",
    "feature_importances1.plot(kind='bar', figsize=(10, 6))\n",
    "plt.title('Feature Importance from Decision Tree (Gini)')\n",
    "plt.ylabel('Importance')\n",
    "plt.xlabel('Features')\n",
    "plt.show()"
   ]
  },
  {
   "cell_type": "code",
   "execution_count": null,
   "id": "5c4f85b7",
   "metadata": {},
   "outputs": [],
   "source": [
    "feature_importances2 = pd.Series(classifiers['Decision Tree (Entropy)'].feature_importances_, index=x.columns)\n",
    "feature_importances2.sort_values(ascending=False, inplace=True)\n",
    "feature_importances2.plot(kind='bar', figsize=(10, 6))\n",
    "plt.title('Feature Importance from Decision Tree (Entropy)')\n",
    "plt.ylabel('Importance')\n",
    "plt.xlabel('Features')\n",
    "plt.show()"
   ]
  },
  {
   "cell_type": "code",
   "execution_count": null,
   "id": "6e8199c7",
   "metadata": {},
   "outputs": [],
   "source": [
    "df1 = pd.DataFrame(feature_importances1, columns=['Gini Importance'])\n",
    "df2 = pd.DataFrame(feature_importances2, columns=['Entropy Importance'])\n",
    "combined_df = pd.concat([df1, df2], axis=1)\n",
    "combined_df.to_csv('combined_df.csv', index=True)\n",
    "from google.colab import files\n",
    "files.download('combined_df.csv')"
   ]
  }
 ],
 "metadata": {},
 "nbformat": 4,
 "nbformat_minor": 5
}
